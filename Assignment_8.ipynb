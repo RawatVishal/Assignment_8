{
 "cells": [
  {
   "cell_type": "code",
   "execution_count": 1,
   "id": "68e38393",
   "metadata": {},
   "outputs": [],
   "source": [
    "#Q1\n",
    "# PyInputPlus is not included with python standard library we have to install it ."
   ]
  },
  {
   "cell_type": "code",
   "execution_count": 2,
   "id": "a50135b9",
   "metadata": {},
   "outputs": [],
   "source": [
    "#Q2\n",
    "#pypi is just the alias we use for importing pyinputplus we can use any alias that we want. "
   ]
  },
  {
   "cell_type": "code",
   "execution_count": 3,
   "id": "9c2c3a8f",
   "metadata": {},
   "outputs": [],
   "source": [
    "#Q3\n",
    "#The basic difference is the data type in case of inputint() it takes integer value only but inputfloat() it takes only decimal value "
   ]
  },
  {
   "cell_type": "code",
   "execution_count": 7,
   "id": "713bf705",
   "metadata": {},
   "outputs": [],
   "source": [
    "#Q4\n",
    "# by using inputInt() and setting the min value as 0 and less than value as 100 "
   ]
  },
  {
   "cell_type": "code",
   "execution_count": 8,
   "id": "b04eabed",
   "metadata": {},
   "outputs": [],
   "source": [
    "#Q5\n",
    "#A list of regex strings that can be explicitly allowed or denied ."
   ]
  },
  {
   "cell_type": "code",
   "execution_count": 9,
   "id": "065a8be7",
   "metadata": {},
   "outputs": [],
   "source": [
    "#Q6\n",
    "#it will raise error as retry limit exception"
   ]
  },
  {
   "cell_type": "code",
   "execution_count": null,
   "id": "7197e35e",
   "metadata": {},
   "outputs": [],
   "source": [
    "#Q7\n",
    "#it will give hello as output"
   ]
  }
 ],
 "metadata": {
  "kernelspec": {
   "display_name": "Python 3 (ipykernel)",
   "language": "python",
   "name": "python3"
  },
  "language_info": {
   "codemirror_mode": {
    "name": "ipython",
    "version": 3
   },
   "file_extension": ".py",
   "mimetype": "text/x-python",
   "name": "python",
   "nbconvert_exporter": "python",
   "pygments_lexer": "ipython3",
   "version": "3.9.7"
  }
 },
 "nbformat": 4,
 "nbformat_minor": 5
}
